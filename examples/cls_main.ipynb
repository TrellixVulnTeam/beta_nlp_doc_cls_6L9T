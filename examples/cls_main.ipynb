{
 "cells": [
  {
   "cell_type": "code",
   "execution_count": null,
   "metadata": {},
   "outputs": [],
   "source": [
    "import sys\n",
    "sys.path.append(\"../\")\n",
    "from src.utils.data_util import biocaser2text\n",
    "from src.eval_method import CrossValidation\n",
    "from src.experiment import Experiment\n",
    "from src.metrics import Accuracy,Precision,Recall,F1Score\n",
    "from sklearn.svm import LinearSVC\n",
    "from sklearn.naive_bayes import BernoulliNB\n",
    "from sklearn.naive_bayes import GaussianNB\n",
    "from sklearn.naive_bayes import MultinomialNB\n",
    "from sklearn.tree import DecisionTreeClassifier\n",
    "from src.preprocess import BasicTextPreprocess,BasicTextFeatureExtraction\n",
    "data_file = \"../data/biocaster/BioCaster.3.xml\"\n",
    "data_df = biocaser2text(data_file)"
   ]
  },
  {
   "cell_type": "code",
   "execution_count": null,
   "metadata": {
    "collapsed": false,
    "jupyter": {
     "outputs_hidden": false
    },
    "pycharm": {
     "name": "#%%\n"
    }
   },
   "outputs": [],
   "source": [
    "## this should load a dataframe, which col1 being the documents and col2 being the labels.\n",
    "map_dic = {\"negative\":0,\"positive\":1}\n",
    "data_df.labels = data_df.labels.apply(lambda x: map_dic[x])\n",
    "data_df.head(3)"
   ]
  },
  {
   "cell_type": "code",
   "execution_count": null,
   "metadata": {
    "collapsed": false,
    "jupyter": {
     "outputs_hidden": false
    },
    "pycharm": {
     "name": "#%%\n"
    }
   },
   "outputs": [],
   "source": [
    "bp = BasicTextPreprocess()\n",
    "bfe = BasicTextFeatureExtraction([\"bow\",\"trigram\",[\"bow\",\"trigram\"]])\n",
    "\n",
    "cv = CrossValidation(n_splits=10, n_repeats=10, random_state=12345)\n",
    "\n",
    "acc = Accuracy()\n",
    "pre = Precision()\n",
    "rec = Recall()\n",
    "f1 = F1Score()\n",
    "\n",
    "svm = LinearSVC(random_state=0, tol=1e-5,max_iter=5000)\n",
    "svm.name = \"svm\"\n",
    "dtree = DecisionTreeClassifier(random_state=0,criterion='entropy')\n",
    "dtree.name=\"dtree\"\n",
    "bnb = BernoulliNB\n",
    "bnb.name = \"BernoulliNB\"\n",
    "gnb = GaussianNB\n",
    "gnb.name = \"GaussianNB\"\n",
    "mnb = MultinomialNB\n",
    "mnb.name = \"MultinomialNB\""
   ]
  },
  {
   "cell_type": "code",
   "execution_count": null,
   "metadata": {},
   "outputs": [],
   "source": [
    "exp = Experiment(\n",
    "    data_df = data_df,\n",
    "    preprocessor = bp,\n",
    "    extractor = bfe,\n",
    "    eval_method=cv,\n",
    "    models=[svm,dtree,bnb,gnb,mnb],\n",
    "    metrics=[acc,pre,rec,f1],\n",
    "    verbose = True\n",
    ").run()"
   ]
  },
  {
   "cell_type": "code",
   "execution_count": null,
   "metadata": {},
   "outputs": [],
   "source": []
  },
  {
   "cell_type": "code",
   "execution_count": null,
   "metadata": {},
   "outputs": [],
   "source": []
  },
  {
   "cell_type": "code",
   "execution_count": null,
   "metadata": {},
   "outputs": [],
   "source": []
  }
 ],
 "metadata": {
  "kernelspec": {
   "display_name": "doc_cls",
   "language": "python",
   "name": "doc_cls"
  },
  "language_info": {
   "codemirror_mode": {
    "name": "ipython",
    "version": 3
   },
   "file_extension": ".py",
   "mimetype": "text/x-python",
   "name": "python",
   "nbconvert_exporter": "python",
   "pygments_lexer": "ipython3",
   "version": "3.8.3"
  }
 },
 "nbformat": 4,
 "nbformat_minor": 4
}
