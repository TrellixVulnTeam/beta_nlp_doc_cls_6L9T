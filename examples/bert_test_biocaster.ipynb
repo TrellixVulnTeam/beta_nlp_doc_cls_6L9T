{
 "cells": [
  {
   "cell_type": "code",
   "execution_count": 1,
   "metadata": {},
   "outputs": [],
   "source": [
    "config = {\n",
    "    \"pretrained_model\": \"bert-base-uncased\",\n",
    "    \"tokenizer\": \"bert-base-uncased\",\n",
    "    \"max_seq_length\": 512,\n",
    "    \"batch_size\": 16,\n",
    "    \"lr\": 2e-5,\n",
    "    \"epochs\": 10,\n",
    "    \"device\": \"cpu\",\n",
    "    \"gpu_ids\": \"3\",\n",
    "    \"seed\": 2020,\n",
    "    \"fp16\": False,\n",
    "    \"loss_scale\": 0,\n",
    "    \"gradient_accumulation_steps\":1,\n",
    "    \"warmup_proportion\": 0.1,\n",
    "    \"gradient_accumulation_steps\": 1,\n",
    "    \"num_labels\": 2,\n",
    "    \"is_multilabel\": False,\n",
    "    \"valid_metric\": \"f1\",\n",
    "    \"model_save_dir\": \"../checkpoints/bert_uncased_512_biocaster_binary_20200903/\",\n",
    "    \"patience\": 4,\n",
    "}"
   ]
  },
  {
   "cell_type": "code",
   "execution_count": 2,
   "metadata": {},
   "outputs": [
    {
     "name": "stdout",
     "output_type": "stream",
     "text": [
      "parse biocaser data from /home/zm324/workspace/doc_cls/datasets/biocaster/BioCaster.3.xml, docs number:1003, lablels number:1003\n"
     ]
    },
    {
     "data": {
      "text/html": [
       "<div>\n",
       "<style scoped>\n",
       "    .dataframe tbody tr th:only-of-type {\n",
       "        vertical-align: middle;\n",
       "    }\n",
       "\n",
       "    .dataframe tbody tr th {\n",
       "        vertical-align: top;\n",
       "    }\n",
       "\n",
       "    .dataframe thead th {\n",
       "        text-align: right;\n",
       "    }\n",
       "</style>\n",
       "<table border=\"1\" class=\"dataframe\">\n",
       "  <thead>\n",
       "    <tr style=\"text-align: right;\">\n",
       "      <th></th>\n",
       "      <th>docs</th>\n",
       "      <th>labels</th>\n",
       "      <th>source</th>\n",
       "    </tr>\n",
       "  </thead>\n",
       "  <tbody>\n",
       "    <tr>\n",
       "      <th>0</th>\n",
       "      <td>\\nBird Flu Outbreak Drill Spooks Manitoba Town...</td>\n",
       "      <td>0</td>\n",
       "      <td>Biocaster</td>\n",
       "    </tr>\n",
       "    <tr>\n",
       "      <th>1</th>\n",
       "      <td>\\nTyphoid outbreak in Agusan del Sur town unde...</td>\n",
       "      <td>1</td>\n",
       "      <td>Biocaster</td>\n",
       "    </tr>\n",
       "    <tr>\n",
       "      <th>2</th>\n",
       "      <td>\\n  Typhoid Outbreak In Central Nepal November...</td>\n",
       "      <td>1</td>\n",
       "      <td>Biocaster</td>\n",
       "    </tr>\n",
       "  </tbody>\n",
       "</table>\n",
       "</div>"
      ],
      "text/plain": [
       "                                                docs  labels     source\n",
       "0  \\nBird Flu Outbreak Drill Spooks Manitoba Town...       0  Biocaster\n",
       "1  \\nTyphoid outbreak in Agusan del Sur town unde...       1  Biocaster\n",
       "2  \\n  Typhoid Outbreak In Central Nepal November...       1  Biocaster"
      ]
     },
     "execution_count": 2,
     "metadata": {},
     "output_type": "execute_result"
    }
   ],
   "source": [
    "import sys\n",
    "sys.path.append(\"../\")\n",
    "from beta_nlp.utils.data_util import biocaser2text\n",
    "data_file = \"/home/zm324/workspace/doc_cls/datasets/biocaster/BioCaster.3.xml\"\n",
    "data_df = biocaser2text(data_file)\n",
    "data_df[\"source\"] = \"Biocaster\"\n",
    "data_df.head(3)"
   ]
  },
  {
   "cell_type": "code",
   "execution_count": 3,
   "metadata": {},
   "outputs": [
    {
     "name": "stderr",
     "output_type": "stream",
     "text": [
      "<ipython-input-3-79406d09754d>:6: SettingWithCopyWarning: \n",
      "A value is trying to be set on a copy of a slice from a DataFrame.\n",
      "Try using .loc[row_indexer,col_indexer] = value instead\n",
      "\n",
      "See the caveats in the documentation: https://pandas.pydata.org/pandas-docs/stable/user_guide/indexing.html#returning-a-view-versus-a-copy\n",
      "  data_df.iloc[:train_index][\"flag\"]=\"train\"\n",
      "<ipython-input-3-79406d09754d>:7: SettingWithCopyWarning: \n",
      "A value is trying to be set on a copy of a slice from a DataFrame.\n",
      "Try using .loc[row_indexer,col_indexer] = value instead\n",
      "\n",
      "See the caveats in the documentation: https://pandas.pydata.org/pandas-docs/stable/user_guide/indexing.html#returning-a-view-versus-a-copy\n",
      "  data_df.iloc[train_index:valid_index][\"flag\"]=\"valid\"\n",
      "<ipython-input-3-79406d09754d>:8: SettingWithCopyWarning: \n",
      "A value is trying to be set on a copy of a slice from a DataFrame.\n",
      "Try using .loc[row_indexer,col_indexer] = value instead\n",
      "\n",
      "See the caveats in the documentation: https://pandas.pydata.org/pandas-docs/stable/user_guide/indexing.html#returning-a-view-versus-a-copy\n",
      "  data_df.iloc[valid_index:][\"flag\"]=\"test\"\n"
     ]
    }
   ],
   "source": [
    "from sklearn.utils import shuffle\n",
    "data_df = shuffle(data_df).reset_index()\n",
    "data_df[\"flag\"]=None\n",
    "train_index = int(len(data_df.index)*0.8)\n",
    "valid_index = train_index + round(len(data_df.index)*0.1)\n",
    "data_df.iloc[:train_index][\"flag\"]=\"train\"\n",
    "data_df.iloc[train_index:valid_index][\"flag\"]=\"valid\"\n",
    "data_df.iloc[valid_index:][\"flag\"]=\"test\""
   ]
  },
  {
   "cell_type": "code",
   "execution_count": 4,
   "metadata": {},
   "outputs": [],
   "source": [
    "train_set = data_df[data_df[\"flag\"]==\"train\"]\n",
    "dev_set = data_df[data_df[\"flag\"]==\"valid\"]\n",
    "test_set = data_df[data_df[\"flag\"]==\"test\"]"
   ]
  },
  {
   "cell_type": "code",
   "execution_count": 5,
   "metadata": {},
   "outputs": [
    {
     "data": {
      "text/plain": [
       "(802, 100, 101)"
      ]
     },
     "execution_count": 5,
     "metadata": {},
     "output_type": "execute_result"
    }
   ],
   "source": [
    "len(train_set.index),len(dev_set.index),len(test_set.index)"
   ]
  },
  {
   "cell_type": "code",
   "execution_count": 6,
   "metadata": {},
   "outputs": [
    {
     "name": "stderr",
     "output_type": "stream",
     "text": [
      "Some weights of the model checkpoint at bert-base-uncased were not used when initializing BertForSequenceClassification: ['cls.predictions.bias', 'cls.predictions.transform.dense.weight', 'cls.predictions.transform.dense.bias', 'cls.predictions.decoder.weight', 'cls.seq_relationship.weight', 'cls.seq_relationship.bias', 'cls.predictions.transform.LayerNorm.weight', 'cls.predictions.transform.LayerNorm.bias']\n",
      "- This IS expected if you are initializing BertForSequenceClassification from the checkpoint of a model trained on another task or with another architecture (e.g. initializing a BertForSequenceClassification model from a BertForPretraining model).\n",
      "- This IS NOT expected if you are initializing BertForSequenceClassification from the checkpoint of a model that you expect to be exactly identical (initializing a BertForSequenceClassification model from a BertForSequenceClassification model).\n",
      "Some weights of BertForSequenceClassification were not initialized from the model checkpoint at bert-base-uncased and are newly initialized: ['classifier.weight', 'classifier.bias']\n",
      "You should probably TRAIN this model on a down-stream task to be able to use it for predictions and inference.\n"
     ]
    },
    {
     "name": "stdout",
     "output_type": "stream",
     "text": [
      "The BERT model has 201 different named parameters.\n",
      "\n",
      "==== Embedding Layer ====\n",
      "\n",
      "bert.embeddings.word_embeddings.weight                  (30522, 768)\n",
      "bert.embeddings.position_embeddings.weight                (512, 768)\n",
      "bert.embeddings.token_type_embeddings.weight                (2, 768)\n",
      "bert.embeddings.LayerNorm.weight                              (768,)\n",
      "bert.embeddings.LayerNorm.bias                                (768,)\n",
      "\n",
      "==== First Transformer ====\n",
      "\n",
      "bert.encoder.layer.0.attention.self.query.weight          (768, 768)\n",
      "bert.encoder.layer.0.attention.self.query.bias                (768,)\n",
      "bert.encoder.layer.0.attention.self.key.weight            (768, 768)\n",
      "bert.encoder.layer.0.attention.self.key.bias                  (768,)\n",
      "bert.encoder.layer.0.attention.self.value.weight          (768, 768)\n",
      "bert.encoder.layer.0.attention.self.value.bias                (768,)\n",
      "bert.encoder.layer.0.attention.output.dense.weight        (768, 768)\n",
      "bert.encoder.layer.0.attention.output.dense.bias              (768,)\n",
      "bert.encoder.layer.0.attention.output.LayerNorm.weight        (768,)\n",
      "bert.encoder.layer.0.attention.output.LayerNorm.bias          (768,)\n",
      "bert.encoder.layer.0.intermediate.dense.weight           (3072, 768)\n",
      "bert.encoder.layer.0.intermediate.dense.bias                 (3072,)\n",
      "bert.encoder.layer.0.output.dense.weight                 (768, 3072)\n",
      "bert.encoder.layer.0.output.dense.bias                        (768,)\n",
      "bert.encoder.layer.0.output.LayerNorm.weight                  (768,)\n",
      "bert.encoder.layer.0.output.LayerNorm.bias                    (768,)\n",
      "\n",
      "==== Output Layer ====\n",
      "\n",
      "bert.pooler.dense.weight                                  (768, 768)\n",
      "bert.pooler.dense.bias                                        (768,)\n",
      "classifier.weight                                           (2, 768)\n",
      "classifier.bias                                                 (2,)\n"
     ]
    }
   ],
   "source": [
    "from beta_nlp.models.bert_cls import BertModel\n",
    "cls = BertModel(config)"
   ]
  },
  {
   "cell_type": "code",
   "execution_count": 7,
   "metadata": {},
   "outputs": [
    {
     "data": {
      "text/plain": [
       "(802, 100, 101)"
      ]
     },
     "execution_count": 7,
     "metadata": {},
     "output_type": "execute_result"
    }
   ],
   "source": [
    "len(train_set.index),len(dev_set.index),len(test_set.index)"
   ]
  },
  {
   "cell_type": "code",
   "execution_count": null,
   "metadata": {
    "scrolled": true
   },
   "outputs": [
    {
     "name": "stderr",
     "output_type": "stream",
     "text": [
      "Epoch:   0%|          | 0/10 [00:00<?, ?it/s]\n",
      "Training:   0%|          | 0/51 [00:00<?, ?it/s]\u001b[A\n",
      "Training:   2%|▏         | 1/51 [00:10<08:40, 10.41s/it]\u001b[A\n",
      "Training:   4%|▍         | 2/51 [00:20<08:32, 10.46s/it]\u001b[A\n",
      "Training:   6%|▌         | 3/51 [00:30<08:15, 10.32s/it]\u001b[A\n",
      "Training:   8%|▊         | 4/51 [00:41<08:13, 10.51s/it]\u001b[A\n",
      "Training:  10%|▉         | 5/51 [00:51<07:49, 10.21s/it]\u001b[A\n",
      "Training:  12%|█▏        | 6/51 [01:01<07:40, 10.23s/it]\u001b[A\n",
      "Training:  14%|█▎        | 7/51 [01:12<07:34, 10.32s/it]\u001b[A\n",
      "Training:  16%|█▌        | 8/51 [01:22<07:22, 10.29s/it]\u001b[A\n",
      "Training:  18%|█▊        | 9/51 [01:33<07:17, 10.41s/it]\u001b[A\n",
      "Training:  20%|█▉        | 10/51 [01:44<07:12, 10.55s/it]\u001b[A\n",
      "Training:  22%|██▏       | 11/51 [01:54<07:03, 10.59s/it]\u001b[A\n",
      "Training:  24%|██▎       | 12/51 [02:05<06:57, 10.71s/it]\u001b[A\n",
      "Training:  25%|██▌       | 13/51 [02:16<06:44, 10.64s/it]\u001b[A\n",
      "Training:  27%|██▋       | 14/51 [02:27<06:41, 10.85s/it]\u001b[A\n",
      "Training:  29%|██▉       | 15/51 [02:38<06:29, 10.82s/it]\u001b[A\n",
      "Training:  31%|███▏      | 16/51 [02:49<06:21, 10.90s/it]\u001b[A\n",
      "Training:  33%|███▎      | 17/51 [02:59<06:03, 10.69s/it]\u001b[A\n",
      "Training:  35%|███▌      | 18/51 [03:09<05:50, 10.61s/it]\u001b[A\n",
      "Training:  37%|███▋      | 19/51 [03:20<05:42, 10.70s/it]\u001b[A\n",
      "Training:  39%|███▉      | 20/51 [03:32<05:35, 10.82s/it]\u001b[A\n",
      "Training:  41%|████      | 21/51 [03:42<05:22, 10.75s/it]\u001b[A\n",
      "Training:  43%|████▎     | 22/51 [03:52<05:08, 10.64s/it]\u001b[A\n",
      "Training:  45%|████▌     | 23/51 [04:04<05:02, 10.80s/it]\u001b[A\n",
      "Training:  47%|████▋     | 24/51 [04:15<04:58, 11.05s/it]\u001b[A\n",
      "Training:  49%|████▉     | 25/51 [04:26<04:40, 10.81s/it]\u001b[A\n",
      "Training:  51%|█████     | 26/51 [04:36<04:30, 10.81s/it]\u001b[A\n",
      "Training:  53%|█████▎    | 27/51 [04:48<04:24, 11.02s/it]\u001b[A\n",
      "Training:  55%|█████▍    | 28/51 [04:58<04:07, 10.77s/it]\u001b[A\n",
      "Training:  57%|█████▋    | 29/51 [05:08<03:52, 10.55s/it]\u001b[A\n",
      "Training:  59%|█████▉    | 30/51 [05:18<03:40, 10.51s/it]\u001b[A\n",
      "Training:  61%|██████    | 31/51 [05:29<03:31, 10.56s/it]\u001b[A\n",
      "Training:  63%|██████▎   | 32/51 [05:41<03:25, 10.82s/it]\u001b[A\n",
      "Training:  65%|██████▍   | 33/51 [05:50<03:09, 10.52s/it]\u001b[A\n",
      "Training:  67%|██████▋   | 34/51 [06:01<02:59, 10.53s/it]\u001b[A\n",
      "Training:  69%|██████▊   | 35/51 [06:11<02:46, 10.41s/it]\u001b[A\n",
      "Training:  71%|███████   | 36/51 [06:21<02:35, 10.34s/it]\u001b[A\n",
      "Training:  73%|███████▎  | 37/51 [06:32<02:26, 10.46s/it]\u001b[A\n",
      "Training:  75%|███████▍  | 38/51 [06:43<02:17, 10.58s/it]\u001b[A\n",
      "Training:  76%|███████▋  | 39/51 [06:54<02:08, 10.69s/it]\u001b[A\n",
      "Training:  78%|███████▊  | 40/51 [07:05<01:59, 10.89s/it]\u001b[A\n",
      "Training:  80%|████████  | 41/51 [07:16<01:48, 10.88s/it]\u001b[A\n",
      "Training:  82%|████████▏ | 42/51 [07:27<01:37, 10.86s/it]\u001b[A\n",
      "Training:  84%|████████▍ | 43/51 [07:38<01:26, 10.80s/it]\u001b[A\n",
      "Training:  86%|████████▋ | 44/51 [07:47<01:13, 10.55s/it]\u001b[A\n",
      "Training:  88%|████████▊ | 45/51 [07:59<01:04, 10.73s/it]\u001b[A\n",
      "Training:  90%|█████████ | 46/51 [08:09<00:53, 10.70s/it]\u001b[A\n",
      "Training:  92%|█████████▏| 47/51 [08:20<00:42, 10.67s/it]\u001b[A\n",
      "Training:  94%|█████████▍| 48/51 [08:31<00:32, 10.75s/it]\u001b[A\n",
      "Training:  96%|█████████▌| 49/51 [08:41<00:21, 10.69s/it]\u001b[A\n",
      "Training:  98%|█████████▊| 50/51 [08:52<00:10, 10.75s/it]\u001b[A\n",
      "Training: 100%|██████████| 51/51 [08:54<00:00, 10.48s/it]\u001b[A\n",
      "Epoch:   0%|          | 0/10 [08:54<?, ?it/s]\n",
      "Evaluating:   0%|          | 0/7 [00:00<?, ?it/s]\u001b[A"
     ]
    },
    {
     "name": "stdout",
     "output_type": "stream",
     "text": [
      "Execute [train_an_epoch] method costing 534412.57 ms\n",
      "[Epoch 0] loss: 33.067089676856995\n"
     ]
    },
    {
     "name": "stderr",
     "output_type": "stream",
     "text": [
      "\n",
      "Evaluating:  14%|█▍        | 1/7 [00:03<00:18,  3.05s/it]\u001b[A\n",
      "Evaluating:  29%|██▊       | 2/7 [00:05<00:14,  3.00s/it]\u001b[A\n",
      "Evaluating:  43%|████▎     | 3/7 [00:08<00:11,  2.95s/it]\u001b[A\n",
      "Evaluating:  57%|█████▋    | 4/7 [00:11<00:08,  2.92s/it]\u001b[A\n",
      "Evaluating:  71%|███████▏  | 5/7 [00:14<00:05,  2.89s/it]\u001b[A\n",
      "Evaluating:  86%|████████▌ | 6/7 [00:17<00:02,  2.89s/it]\u001b[A\n",
      "Evaluating: 100%|██████████| 7/7 [00:17<00:00,  2.56s/it]\u001b[A\n"
     ]
    },
    {
     "name": "stdout",
     "output_type": "stream",
     "text": [
      "Execute [eval] method costing 17913.81 ms\n",
      "------------------------------------------------------------\n",
      "[Epoch 0]performance on validation set\n",
      "+----+-----------+----------+\n",
      "|    | metrics   |   values |\n",
      "|----+-----------+----------|\n",
      "|  0 | accuracy  | 0.86     |\n",
      "|  1 | precision | 0.692308 |\n",
      "|  2 | recall    | 0.931034 |\n",
      "|  3 | f1        | 0.794118 |\n",
      "+----+-----------+----------+\n",
      "------------------------------------------------------------\n"
     ]
    },
    {
     "name": "stderr",
     "output_type": "stream",
     "text": [
      "Epoch:  10%|█         | 1/10 [09:12<1:22:53, 552.57s/it]\n",
      "Training:   0%|          | 0/51 [00:00<?, ?it/s]\u001b[A\n",
      "Training:   2%|▏         | 1/51 [00:10<08:22, 10.05s/it]\u001b[A\n",
      "Training:   4%|▍         | 2/51 [00:20<08:11, 10.03s/it]\u001b[A\n",
      "Training:   6%|▌         | 3/51 [00:31<08:15, 10.32s/it]\u001b[A\n",
      "Training:   8%|▊         | 4/51 [00:40<07:58, 10.19s/it]\u001b[A\n",
      "Training:  10%|▉         | 5/51 [00:51<07:54, 10.32s/it]\u001b[A\n",
      "Training:  12%|█▏        | 6/51 [01:01<07:43, 10.30s/it]\u001b[A\n",
      "Training:  14%|█▎        | 7/51 [01:11<07:23, 10.09s/it]\u001b[A\n",
      "Training:  16%|█▌        | 8/51 [01:22<07:22, 10.30s/it]\u001b[A\n",
      "Training:  18%|█▊        | 9/51 [01:33<07:27, 10.64s/it]\u001b[A\n",
      "Training:  20%|█▉        | 10/51 [01:44<07:19, 10.72s/it]\u001b[A\n",
      "Training:  22%|██▏       | 11/51 [01:54<06:59, 10.48s/it]\u001b[A\n",
      "Training:  24%|██▎       | 12/51 [02:06<07:04, 10.88s/it]\u001b[A\n",
      "Training:  25%|██▌       | 13/51 [02:16<06:48, 10.74s/it]\u001b[A\n",
      "Training:  27%|██▋       | 14/51 [02:28<06:47, 11.02s/it]\u001b[A\n",
      "Training:  29%|██▉       | 15/51 [02:38<06:26, 10.74s/it]\u001b[A\n",
      "Training:  31%|███▏      | 16/51 [02:49<06:15, 10.74s/it]\u001b[A\n",
      "Training:  33%|███▎      | 17/51 [02:59<06:00, 10.61s/it]\u001b[A\n",
      "Training:  35%|███▌      | 18/51 [03:10<05:52, 10.68s/it]\u001b[A\n",
      "Training:  37%|███▋      | 19/51 [03:21<05:43, 10.75s/it]\u001b[A\n",
      "Training:  39%|███▉      | 20/51 [03:32<05:37, 10.87s/it]\u001b[A\n",
      "Training:  41%|████      | 21/51 [03:42<05:20, 10.69s/it]\u001b[A\n",
      "Training:  43%|████▎     | 22/51 [03:52<05:06, 10.58s/it]\u001b[A\n",
      "Training:  45%|████▌     | 23/51 [04:03<04:55, 10.54s/it]\u001b[A\n",
      "Training:  47%|████▋     | 24/51 [04:13<04:41, 10.44s/it]\u001b[A\n",
      "Training:  49%|████▉     | 25/51 [04:23<04:26, 10.24s/it]\u001b[A\n",
      "Training:  51%|█████     | 26/51 [04:34<04:21, 10.45s/it]\u001b[A\n",
      "Training:  53%|█████▎    | 27/51 [04:44<04:10, 10.43s/it]\u001b[A\n",
      "Training:  55%|█████▍    | 28/51 [04:54<03:58, 10.37s/it]\u001b[A\n",
      "Training:  57%|█████▋    | 29/51 [05:04<03:44, 10.22s/it]\u001b[A\n",
      "Training:  59%|█████▉    | 30/51 [05:14<03:32, 10.14s/it]\u001b[A\n",
      "Training:  61%|██████    | 31/51 [05:24<03:22, 10.15s/it]\u001b[A\n",
      "Training:  63%|██████▎   | 32/51 [05:36<03:18, 10.43s/it]\u001b[A\n",
      "Training:  65%|██████▍   | 33/51 [05:45<03:03, 10.19s/it]\u001b[A\n",
      "Training:  67%|██████▋   | 34/51 [05:56<02:54, 10.24s/it]\u001b[A\n",
      "Training:  69%|██████▊   | 35/51 [06:06<02:46, 10.44s/it]\u001b[A\n",
      "Training:  71%|███████   | 36/51 [06:17<02:36, 10.42s/it]\u001b[A\n",
      "Training:  73%|███████▎  | 37/51 [06:27<02:26, 10.48s/it]\u001b[A\n",
      "Training:  75%|███████▍  | 38/51 [06:37<02:14, 10.33s/it]\u001b[A\n",
      "Training:  76%|███████▋  | 39/51 [06:48<02:05, 10.45s/it]\u001b[A\n",
      "Training:  78%|███████▊  | 40/51 [06:58<01:54, 10.37s/it]\u001b[A\n",
      "Training:  80%|████████  | 41/51 [07:10<01:47, 10.70s/it]\u001b[A\n",
      "Training:  82%|████████▏ | 42/51 [07:20<01:35, 10.63s/it]\u001b[A\n",
      "Training:  84%|████████▍ | 43/51 [07:31<01:25, 10.66s/it]\u001b[A\n",
      "Training:  86%|████████▋ | 44/51 [07:42<01:14, 10.71s/it]\u001b[A\n",
      "Training:  88%|████████▊ | 45/51 [07:52<01:03, 10.63s/it]\u001b[A\n",
      "Training:  90%|█████████ | 46/51 [08:02<00:52, 10.49s/it]\u001b[A\n",
      "Training:  92%|█████████▏| 47/51 [08:13<00:41, 10.38s/it]\u001b[A\n",
      "Training:  94%|█████████▍| 48/51 [08:22<00:30, 10.25s/it]\u001b[A\n",
      "Training:  96%|█████████▌| 49/51 [08:33<00:20, 10.23s/it]\u001b[A\n",
      "Training:  98%|█████████▊| 50/51 [08:44<00:10, 10.42s/it]\u001b[A\n",
      "Training: 100%|██████████| 51/51 [08:45<00:00, 10.30s/it]\u001b[A\n",
      "Epoch:  10%|█         | 1/10 [17:58<1:22:53, 552.57s/it]\n",
      "Evaluating:   0%|          | 0/7 [00:00<?, ?it/s]\u001b[A"
     ]
    },
    {
     "name": "stdout",
     "output_type": "stream",
     "text": [
      "Execute [train_an_epoch] method costing 525576.30 ms\n",
      "[Epoch 1] loss: 17.798420324921608\n"
     ]
    },
    {
     "name": "stderr",
     "output_type": "stream",
     "text": [
      "\n",
      "Evaluating:  14%|█▍        | 1/7 [00:02<00:14,  2.40s/it]\u001b[A\n",
      "Evaluating:  29%|██▊       | 2/7 [00:04<00:11,  2.36s/it]\u001b[A\n",
      "Evaluating:  43%|████▎     | 3/7 [00:07<00:09,  2.45s/it]\u001b[A\n",
      "Evaluating:  57%|█████▋    | 4/7 [00:09<00:07,  2.43s/it]\u001b[A\n",
      "Evaluating:  71%|███████▏  | 5/7 [00:11<00:04,  2.37s/it]\u001b[A\n",
      "Evaluating:  86%|████████▌ | 6/7 [00:14<00:02,  2.48s/it]\u001b[A\n",
      "Evaluating: 100%|██████████| 7/7 [00:15<00:00,  2.20s/it]\u001b[A\n"
     ]
    },
    {
     "name": "stdout",
     "output_type": "stream",
     "text": [
      "Execute [eval] method costing 15390.79 ms\n",
      "------------------------------------------------------------\n",
      "[Epoch 1]performance on validation set\n",
      "+----+-----------+----------+\n",
      "|    | metrics   |   values |\n",
      "|----+-----------+----------|\n",
      "|  0 | accuracy  | 0.92     |\n",
      "|  1 | precision | 0.862069 |\n",
      "|  2 | recall    | 0.862069 |\n",
      "|  3 | f1        | 0.862069 |\n",
      "+----+-----------+----------+\n",
      "------------------------------------------------------------\n"
     ]
    },
    {
     "name": "stderr",
     "output_type": "stream",
     "text": [
      "Epoch:  20%|██        | 2/10 [18:13<1:13:13, 549.22s/it]\n",
      "Training:   0%|          | 0/51 [00:00<?, ?it/s]\u001b[A\n",
      "Training:   2%|▏         | 1/51 [00:09<08:02,  9.65s/it]\u001b[A\n",
      "Training:   4%|▍         | 2/51 [00:20<08:08,  9.96s/it]\u001b[A\n",
      "Training:   6%|▌         | 3/51 [00:31<08:21, 10.45s/it]\u001b[A\n",
      "Training:   8%|▊         | 4/51 [00:42<08:09, 10.42s/it]\u001b[A\n",
      "Training:  10%|▉         | 5/51 [00:52<07:52, 10.26s/it]\u001b[A\n",
      "Training:  12%|█▏        | 6/51 [01:03<07:49, 10.44s/it]\u001b[A\n",
      "Training:  14%|█▎        | 7/51 [01:13<07:43, 10.54s/it]\u001b[A\n",
      "Training:  16%|█▌        | 8/51 [01:23<07:28, 10.42s/it]\u001b[A\n",
      "Training:  18%|█▊        | 9/51 [01:35<07:28, 10.69s/it]\u001b[A\n",
      "Training:  20%|█▉        | 10/51 [01:45<07:16, 10.65s/it]\u001b[A\n",
      "Training:  22%|██▏       | 11/51 [01:56<07:10, 10.76s/it]\u001b[A\n",
      "Training:  24%|██▎       | 12/51 [02:07<07:01, 10.80s/it]\u001b[A\n",
      "Training:  25%|██▌       | 13/51 [02:17<06:41, 10.58s/it]\u001b[A\n",
      "Training:  27%|██▋       | 14/51 [02:28<06:28, 10.49s/it]\u001b[A\n",
      "Training:  29%|██▉       | 15/51 [02:38<06:16, 10.47s/it]\u001b[A\n",
      "Training:  31%|███▏      | 16/51 [02:49<06:15, 10.73s/it]\u001b[A\n",
      "Training:  33%|███▎      | 17/51 [03:00<06:01, 10.62s/it]\u001b[A\n",
      "Training:  35%|███▌      | 18/51 [03:10<05:44, 10.45s/it]\u001b[A\n",
      "Training:  37%|███▋      | 19/51 [03:21<05:39, 10.60s/it]\u001b[A\n",
      "Training:  39%|███▉      | 20/51 [03:31<05:21, 10.37s/it]\u001b[A\n",
      "Training:  41%|████      | 21/51 [03:42<05:17, 10.60s/it]\u001b[A\n",
      "Training:  43%|████▎     | 22/51 [03:52<05:05, 10.52s/it]\u001b[A\n",
      "Training:  45%|████▌     | 23/51 [04:03<04:54, 10.54s/it]\u001b[A\n",
      "Training:  47%|████▋     | 24/51 [04:13<04:41, 10.43s/it]\u001b[A\n",
      "Training:  49%|████▉     | 25/51 [04:24<04:35, 10.58s/it]\u001b[A\n",
      "Training:  51%|█████     | 26/51 [04:33<04:17, 10.29s/it]\u001b[A\n",
      "Training:  53%|█████▎    | 27/51 [04:43<04:06, 10.26s/it]\u001b[A\n",
      "Training:  55%|█████▍    | 28/51 [04:53<03:52, 10.11s/it]\u001b[A\n",
      "Training:  57%|█████▋    | 29/51 [05:04<03:46, 10.31s/it]\u001b[A\n",
      "Training:  59%|█████▉    | 30/51 [05:14<03:36, 10.29s/it]\u001b[A\n",
      "Training:  61%|██████    | 31/51 [05:25<03:29, 10.46s/it]\u001b[A\n",
      "Training:  63%|██████▎   | 32/51 [05:36<03:19, 10.52s/it]\u001b[A\n",
      "Training:  65%|██████▍   | 33/51 [05:47<03:11, 10.63s/it]\u001b[A\n",
      "Training:  67%|██████▋   | 34/51 [05:58<03:04, 10.86s/it]\u001b[A\n",
      "Training:  69%|██████▊   | 35/51 [06:08<02:51, 10.73s/it]\u001b[A\n",
      "Training:  71%|███████   | 36/51 [06:20<02:43, 10.90s/it]\u001b[A\n",
      "Training:  73%|███████▎  | 37/51 [06:31<02:34, 11.03s/it]\u001b[A\n",
      "Training:  75%|███████▍  | 38/51 [06:41<02:20, 10.81s/it]\u001b[A\n",
      "Training:  76%|███████▋  | 39/51 [06:51<02:06, 10.55s/it]\u001b[A\n",
      "Training:  78%|███████▊  | 40/51 [07:01<01:54, 10.41s/it]\u001b[A\n",
      "Training:  80%|████████  | 41/51 [07:13<01:48, 10.85s/it]\u001b[A\n",
      "Training:  82%|████████▏ | 42/51 [07:24<01:37, 10.84s/it]\u001b[A\n",
      "Training:  84%|████████▍ | 43/51 [07:34<01:24, 10.61s/it]\u001b[A\n",
      "Training:  86%|████████▋ | 44/51 [07:44<01:12, 10.42s/it]\u001b[A\n",
      "Training:  88%|████████▊ | 45/51 [07:55<01:02, 10.49s/it]\u001b[A\n",
      "Training:  90%|█████████ | 46/51 [08:06<00:53, 10.61s/it]\u001b[A\n",
      "Training:  92%|█████████▏| 47/51 [08:17<00:42, 10.72s/it]\u001b[A\n",
      "Training:  94%|█████████▍| 48/51 [08:27<00:31, 10.65s/it]\u001b[A\n",
      "Training:  96%|█████████▌| 49/51 [08:38<00:21, 10.70s/it]\u001b[A\n",
      "Training:  98%|█████████▊| 50/51 [08:49<00:10, 10.81s/it]\u001b[A\n",
      "Training: 100%|██████████| 51/51 [08:51<00:00, 10.41s/it]\u001b[A\n",
      "Epoch:  20%|██        | 2/10 [27:04<1:13:13, 549.22s/it]\n",
      "Evaluating:   0%|          | 0/7 [00:00<?, ?it/s]\u001b[A"
     ]
    },
    {
     "name": "stdout",
     "output_type": "stream",
     "text": [
      "Execute [train_an_epoch] method costing 531037.44 ms\n",
      "[Epoch 2] loss: 12.175109293311834\n"
     ]
    },
    {
     "name": "stderr",
     "output_type": "stream",
     "text": [
      "\n",
      "Evaluating:  14%|█▍        | 1/7 [00:02<00:13,  2.24s/it]\u001b[A\n",
      "Evaluating:  29%|██▊       | 2/7 [00:04<00:11,  2.30s/it]\u001b[A\n",
      "Evaluating:  43%|████▎     | 3/7 [00:06<00:09,  2.28s/it]\u001b[A\n",
      "Evaluating:  57%|█████▋    | 4/7 [00:09<00:07,  2.46s/it]\u001b[A\n",
      "Evaluating:  71%|███████▏  | 5/7 [00:12<00:05,  2.56s/it]\u001b[A\n",
      "Evaluating:  86%|████████▌ | 6/7 [00:15<00:02,  2.55s/it]\u001b[A\n",
      "Evaluating: 100%|██████████| 7/7 [00:15<00:00,  2.24s/it]\u001b[A\n",
      "Epoch:  30%|███       | 3/10 [27:20<1:03:59, 548.47s/it]\n",
      "Training:   0%|          | 0/51 [00:00<?, ?it/s]\u001b[A"
     ]
    },
    {
     "name": "stdout",
     "output_type": "stream",
     "text": [
      "Execute [eval] method costing 15688.49 ms\n"
     ]
    },
    {
     "name": "stderr",
     "output_type": "stream",
     "text": [
      "\n",
      "Training:   2%|▏         | 1/51 [00:10<09:02, 10.85s/it]\u001b[A\n",
      "Training:   4%|▍         | 2/51 [00:21<08:50, 10.83s/it]\u001b[A\n",
      "Training:   6%|▌         | 3/51 [00:32<08:38, 10.80s/it]\u001b[A\n",
      "Training:   8%|▊         | 4/51 [00:42<08:23, 10.72s/it]\u001b[A\n",
      "Training:  10%|▉         | 5/51 [00:53<08:10, 10.67s/it]\u001b[A\n",
      "Training:  12%|█▏        | 6/51 [01:03<07:55, 10.56s/it]\u001b[A\n",
      "Training:  14%|█▎        | 7/51 [01:14<07:44, 10.55s/it]\u001b[A\n",
      "Training:  16%|█▌        | 8/51 [01:25<07:44, 10.80s/it]\u001b[A\n",
      "Training:  18%|█▊        | 9/51 [01:36<07:31, 10.75s/it]\u001b[A\n",
      "Training:  20%|█▉        | 10/51 [01:46<07:15, 10.62s/it]\u001b[A\n",
      "Training:  22%|██▏       | 11/51 [01:56<06:55, 10.40s/it]\u001b[A\n",
      "Training:  24%|██▎       | 12/51 [02:07<06:49, 10.50s/it]\u001b[A\n",
      "Training:  25%|██▌       | 13/51 [02:17<06:31, 10.29s/it]\u001b[A\n",
      "Training:  27%|██▋       | 14/51 [02:27<06:20, 10.28s/it]\u001b[A\n",
      "Training:  29%|██▉       | 15/51 [02:37<06:12, 10.36s/it]\u001b[A\n",
      "Training:  31%|███▏      | 16/51 [02:48<06:08, 10.52s/it]\u001b[A\n",
      "Training:  33%|███▎      | 17/51 [02:59<06:03, 10.69s/it]\u001b[A\n",
      "Training:  35%|███▌      | 18/51 [03:10<05:49, 10.60s/it]\u001b[A\n",
      "Training:  37%|███▋      | 19/51 [03:20<05:40, 10.64s/it]\u001b[A\n",
      "Training:  39%|███▉      | 20/51 [03:31<05:29, 10.62s/it]\u001b[A\n",
      "Training:  41%|████      | 21/51 [03:41<05:15, 10.52s/it]\u001b[A\n",
      "Training:  43%|████▎     | 22/51 [03:53<05:11, 10.73s/it]\u001b[A\n",
      "Training:  45%|████▌     | 23/51 [04:03<04:59, 10.71s/it]\u001b[A\n",
      "Training:  47%|████▋     | 24/51 [04:14<04:51, 10.78s/it]\u001b[A\n",
      "Training:  49%|████▉     | 25/51 [04:25<04:43, 10.91s/it]\u001b[A\n",
      "Training:  51%|█████     | 26/51 [04:35<04:26, 10.65s/it]\u001b[A\n",
      "Training:  53%|█████▎    | 27/51 [04:46<04:17, 10.74s/it]\u001b[A\n",
      "Training:  55%|█████▍    | 28/51 [04:56<04:02, 10.52s/it]\u001b[A\n",
      "Training:  57%|█████▋    | 29/51 [05:08<03:57, 10.78s/it]\u001b[A\n",
      "Training:  59%|█████▉    | 30/51 [05:19<03:49, 10.95s/it]\u001b[A\n",
      "Training:  61%|██████    | 31/51 [05:29<03:35, 10.79s/it]\u001b[A\n",
      "Training:  63%|██████▎   | 32/51 [05:40<03:22, 10.68s/it]\u001b[A\n",
      "Training:  65%|██████▍   | 33/51 [05:52<03:18, 11.02s/it]\u001b[A\n",
      "Training:  67%|██████▋   | 34/51 [06:02<03:04, 10.84s/it]\u001b[A\n",
      "Training:  69%|██████▊   | 35/51 [06:13<02:53, 10.87s/it]\u001b[A\n",
      "Training:  71%|███████   | 36/51 [06:23<02:39, 10.65s/it]\u001b[A\n",
      "Training:  73%|███████▎  | 37/51 [06:34<02:28, 10.62s/it]\u001b[A\n",
      "Training:  75%|███████▍  | 38/51 [06:45<02:19, 10.71s/it]\u001b[A\n",
      "Training:  76%|███████▋  | 39/51 [06:56<02:11, 10.96s/it]\u001b[A\n",
      "Training:  78%|███████▊  | 40/51 [07:06<01:57, 10.68s/it]\u001b[A\n",
      "Training:  80%|████████  | 41/51 [07:18<01:49, 10.92s/it]\u001b[A\n",
      "Training:  82%|████████▏ | 42/51 [07:29<01:38, 10.97s/it]\u001b[A\n",
      "Training:  84%|████████▍ | 43/51 [07:40<01:28, 11.03s/it]\u001b[A\n",
      "Training:  86%|████████▋ | 44/51 [07:51<01:16, 10.95s/it]\u001b[A\n",
      "Training:  88%|████████▊ | 45/51 [08:02<01:05, 10.92s/it]\u001b[A\n",
      "Training:  90%|█████████ | 46/51 [08:12<00:54, 10.82s/it]\u001b[A\n",
      "Training:  92%|█████████▏| 47/51 [08:23<00:42, 10.68s/it]\u001b[A\n",
      "Training:  94%|█████████▍| 48/51 [08:33<00:32, 10.70s/it]\u001b[A\n",
      "Training:  96%|█████████▌| 49/51 [08:44<00:21, 10.61s/it]\u001b[A\n",
      "Training:  98%|█████████▊| 50/51 [08:54<00:10, 10.62s/it]\u001b[A\n",
      "Training: 100%|██████████| 51/51 [08:56<00:00, 10.52s/it]\u001b[A\n",
      "Epoch:  30%|███       | 3/10 [36:17<1:03:59, 548.47s/it]\n",
      "Evaluating:   0%|          | 0/7 [00:00<?, ?it/s]\u001b[A"
     ]
    },
    {
     "name": "stdout",
     "output_type": "stream",
     "text": [
      "Execute [train_an_epoch] method costing 536341.17 ms\n",
      "[Epoch 3] loss: 8.190530598163605\n"
     ]
    },
    {
     "name": "stderr",
     "output_type": "stream",
     "text": [
      "\n",
      "Evaluating:  14%|█▍        | 1/7 [00:02<00:14,  2.37s/it]\u001b[A\n",
      "Evaluating:  29%|██▊       | 2/7 [00:04<00:12,  2.41s/it]\u001b[A\n",
      "Evaluating:  43%|████▎     | 3/7 [00:07<00:10,  2.56s/it]\u001b[A\n",
      "Evaluating:  57%|█████▋    | 4/7 [00:10<00:07,  2.59s/it]\u001b[A\n",
      "Evaluating:  71%|███████▏  | 5/7 [00:12<00:04,  2.48s/it]\u001b[A\n",
      "Evaluating:  86%|████████▌ | 6/7 [00:14<00:02,  2.42s/it]\u001b[A\n",
      "Evaluating: 100%|██████████| 7/7 [00:15<00:00,  2.21s/it]\u001b[A\n"
     ]
    },
    {
     "name": "stdout",
     "output_type": "stream",
     "text": [
      "Execute [eval] method costing 15503.99 ms\n",
      "------------------------------------------------------------\n",
      "[Epoch 3]performance on validation set\n",
      "+----+-----------+----------+\n",
      "|    | metrics   |   values |\n",
      "|----+-----------+----------|\n",
      "|  0 | accuracy  | 0.94     |\n",
      "|  1 | precision | 0.848485 |\n",
      "|  2 | recall    | 0.965517 |\n",
      "|  3 | f1        | 0.903226 |\n",
      "+----+-----------+----------+\n",
      "------------------------------------------------------------\n"
     ]
    },
    {
     "name": "stderr",
     "output_type": "stream",
     "text": [
      "Epoch:  40%|████      | 4/10 [36:32<54:57, 549.58s/it]  \n",
      "Training:   0%|          | 0/51 [00:00<?, ?it/s]\u001b[A\n",
      "Training:   2%|▏         | 1/51 [00:10<09:03, 10.87s/it]\u001b[A\n",
      "Training:   4%|▍         | 2/51 [00:20<08:40, 10.62s/it]\u001b[A\n",
      "Training:   6%|▌         | 3/51 [00:31<08:33, 10.71s/it]\u001b[A\n",
      "Training:   8%|▊         | 4/51 [00:42<08:26, 10.78s/it]\u001b[A\n",
      "Training:  10%|▉         | 5/51 [00:53<08:14, 10.75s/it]\u001b[A\n",
      "Training:  12%|█▏        | 6/51 [01:04<08:07, 10.82s/it]\u001b[A\n",
      "Training:  14%|█▎        | 7/51 [01:15<08:03, 10.99s/it]\u001b[A\n",
      "Training:  16%|█▌        | 8/51 [01:26<07:50, 10.93s/it]\u001b[A\n",
      "Training:  18%|█▊        | 9/51 [01:36<07:26, 10.63s/it]\u001b[A\n",
      "Training:  20%|█▉        | 10/51 [01:47<07:22, 10.79s/it]\u001b[A\n",
      "Training:  22%|██▏       | 11/51 [01:59<07:18, 10.97s/it]\u001b[A\n",
      "Training:  24%|██▎       | 12/51 [02:09<06:55, 10.66s/it]\u001b[A\n",
      "Training:  25%|██▌       | 13/51 [02:19<06:39, 10.50s/it]\u001b[A\n",
      "Training:  27%|██▋       | 14/51 [02:30<06:35, 10.69s/it]\u001b[A\n",
      "Training:  29%|██▉       | 15/51 [02:40<06:21, 10.61s/it]\u001b[A\n",
      "Training:  31%|███▏      | 16/51 [02:51<06:13, 10.67s/it]\u001b[A\n",
      "Training:  33%|███▎      | 17/51 [03:02<06:10, 10.88s/it]\u001b[A\n",
      "Training:  35%|███▌      | 18/51 [03:13<05:53, 10.72s/it]\u001b[A\n",
      "Training:  37%|███▋      | 19/51 [03:23<05:38, 10.57s/it]\u001b[A\n",
      "Training:  39%|███▉      | 20/51 [03:33<05:23, 10.45s/it]\u001b[A\n",
      "Training:  41%|████      | 21/51 [03:44<05:20, 10.67s/it]\u001b[A\n",
      "Training:  43%|████▎     | 22/51 [03:56<05:15, 10.89s/it]\u001b[A\n",
      "Training:  45%|████▌     | 23/51 [04:06<04:58, 10.65s/it]\u001b[A\n",
      "Training:  47%|████▋     | 24/51 [04:16<04:44, 10.55s/it]\u001b[A\n",
      "Training:  49%|████▉     | 25/51 [04:27<04:40, 10.78s/it]\u001b[A\n",
      "Training:  51%|█████     | 26/51 [04:38<04:27, 10.69s/it]\u001b[A\n",
      "Training:  53%|█████▎    | 27/51 [04:48<04:12, 10.52s/it]\u001b[A\n",
      "Training:  55%|█████▍    | 28/51 [04:58<04:00, 10.45s/it]\u001b[A\n",
      "Training:  57%|█████▋    | 29/51 [05:10<03:55, 10.72s/it]\u001b[A\n",
      "Training:  59%|█████▉    | 30/51 [05:21<03:47, 10.86s/it]\u001b[A\n",
      "Training:  61%|██████    | 31/51 [05:32<03:38, 10.93s/it]\u001b[A\n",
      "Training:  63%|██████▎   | 32/51 [05:42<03:22, 10.67s/it]\u001b[A\n",
      "Training:  65%|██████▍   | 33/51 [05:53<03:14, 10.81s/it]\u001b[A\n",
      "Training:  67%|██████▋   | 34/51 [06:03<02:59, 10.55s/it]\u001b[A\n",
      "Training:  69%|██████▊   | 35/51 [06:13<02:46, 10.42s/it]\u001b[A\n",
      "Training:  71%|███████   | 36/51 [06:24<02:37, 10.48s/it]\u001b[A\n",
      "Training:  73%|███████▎  | 37/51 [06:35<02:27, 10.56s/it]\u001b[A\n",
      "Training:  75%|███████▍  | 38/51 [06:45<02:17, 10.60s/it]\u001b[A\n",
      "Training:  76%|███████▋  | 39/51 [06:56<02:06, 10.53s/it]\u001b[A\n",
      "Training:  78%|███████▊  | 40/51 [07:07<01:57, 10.66s/it]\u001b[A\n",
      "Training:  80%|████████  | 41/51 [07:18<01:47, 10.73s/it]\u001b[A\n",
      "Training:  82%|████████▏ | 42/51 [07:28<01:34, 10.54s/it]\u001b[A\n",
      "Training:  84%|████████▍ | 43/51 [07:38<01:24, 10.55s/it]\u001b[A\n",
      "Training:  86%|████████▋ | 44/51 [07:49<01:14, 10.61s/it]\u001b[A\n",
      "Training:  88%|████████▊ | 45/51 [07:59<01:02, 10.50s/it]\u001b[A\n",
      "Training:  90%|█████████ | 46/51 [08:10<00:53, 10.65s/it]\u001b[A\n",
      "Training:  92%|█████████▏| 47/51 [08:20<00:42, 10.50s/it]\u001b[A\n",
      "Training:  94%|█████████▍| 48/51 [08:31<00:31, 10.64s/it]\u001b[A\n",
      "Training:  96%|█████████▌| 49/51 [08:42<00:21, 10.71s/it]\u001b[A\n",
      "Training:  98%|█████████▊| 50/51 [08:53<00:10, 10.65s/it]\u001b[A\n",
      "Training: 100%|██████████| 51/51 [08:54<00:00, 10.48s/it]\u001b[A\n",
      "Epoch:  40%|████      | 4/10 [45:27<54:57, 549.58s/it]\n",
      "Evaluating:   0%|          | 0/7 [00:00<?, ?it/s]\u001b[A"
     ]
    },
    {
     "name": "stdout",
     "output_type": "stream",
     "text": [
      "Execute [train_an_epoch] method costing 534640.06 ms\n",
      "[Epoch 4] loss: 4.600695952074602\n"
     ]
    },
    {
     "name": "stderr",
     "output_type": "stream",
     "text": [
      "\n",
      "Evaluating:  14%|█▍        | 1/7 [00:02<00:13,  2.32s/it]\u001b[A\n",
      "Evaluating:  29%|██▊       | 2/7 [00:04<00:11,  2.29s/it]\u001b[A\n",
      "Evaluating:  43%|████▎     | 3/7 [00:06<00:09,  2.27s/it]\u001b[A\n",
      "Evaluating:  57%|█████▋    | 4/7 [00:08<00:06,  2.25s/it]\u001b[A\n",
      "Evaluating:  71%|███████▏  | 5/7 [00:11<00:04,  2.25s/it]\u001b[A\n",
      "Evaluating:  86%|████████▌ | 6/7 [00:14<00:02,  2.43s/it]\u001b[A\n",
      "Evaluating: 100%|██████████| 7/7 [00:14<00:00,  2.11s/it]\u001b[A\n"
     ]
    },
    {
     "name": "stdout",
     "output_type": "stream",
     "text": [
      "Execute [eval] method costing 14742.71 ms\n",
      "------------------------------------------------------------\n",
      "[Epoch 4]performance on validation set\n",
      "+----+-----------+----------+\n",
      "|    | metrics   |   values |\n",
      "|----+-----------+----------|\n",
      "|  0 | accuracy  | 0.95     |\n",
      "|  1 | precision | 0.875    |\n",
      "|  2 | recall    | 0.965517 |\n",
      "|  3 | f1        | 0.918033 |\n",
      "+----+-----------+----------+\n",
      "------------------------------------------------------------\n"
     ]
    },
    {
     "name": "stderr",
     "output_type": "stream",
     "text": [
      "Epoch:  50%|█████     | 5/10 [45:42<45:48, 549.65s/it]\n",
      "Training:   0%|          | 0/51 [00:00<?, ?it/s]\u001b[A\n",
      "Training:   2%|▏         | 1/51 [00:11<09:25, 11.31s/it]\u001b[A\n",
      "Training:   4%|▍         | 2/51 [00:21<08:59, 11.00s/it]\u001b[A\n",
      "Training:   6%|▌         | 3/51 [00:31<08:38, 10.81s/it]\u001b[A\n",
      "Training:   8%|▊         | 4/51 [00:42<08:29, 10.83s/it]\u001b[A\n",
      "Training:  10%|▉         | 5/51 [00:53<08:10, 10.66s/it]\u001b[A\n",
      "Training:  12%|█▏        | 6/51 [01:04<08:04, 10.77s/it]\u001b[A\n",
      "Training:  14%|█▎        | 7/51 [01:14<07:49, 10.67s/it]\u001b[A\n",
      "Training:  16%|█▌        | 8/51 [01:25<07:36, 10.63s/it]\u001b[A\n",
      "Training:  18%|█▊        | 9/51 [01:36<07:32, 10.77s/it]\u001b[A\n",
      "Training:  20%|█▉        | 10/51 [01:46<07:15, 10.63s/it]\u001b[A\n",
      "Training:  22%|██▏       | 11/51 [01:56<06:58, 10.46s/it]\u001b[A\n",
      "Training:  24%|██▎       | 12/51 [02:07<06:50, 10.52s/it]\u001b[A\n",
      "Training:  25%|██▌       | 13/51 [02:17<06:38, 10.48s/it]\u001b[A\n",
      "Training:  27%|██▋       | 14/51 [02:29<06:38, 10.76s/it]\u001b[A\n",
      "Training:  29%|██▉       | 15/51 [02:39<06:22, 10.62s/it]\u001b[A\n",
      "Training:  31%|███▏      | 16/51 [02:50<06:15, 10.74s/it]\u001b[A\n",
      "Training:  33%|███▎      | 17/51 [03:01<06:10, 10.89s/it]\u001b[A\n",
      "Training:  35%|███▌      | 18/51 [03:12<05:59, 10.88s/it]\u001b[A\n",
      "Training:  37%|███▋      | 19/51 [03:22<05:38, 10.59s/it]\u001b[A\n",
      "Training:  39%|███▉      | 20/51 [03:34<05:40, 10.97s/it]\u001b[A\n",
      "Training:  41%|████      | 21/51 [03:45<05:33, 11.11s/it]\u001b[A\n",
      "Training:  43%|████▎     | 22/51 [03:55<05:11, 10.74s/it]\u001b[A\n",
      "Training:  45%|████▌     | 23/51 [04:05<04:56, 10.60s/it]\u001b[A\n",
      "Training:  47%|████▋     | 24/51 [04:16<04:44, 10.52s/it]\u001b[A\n",
      "Training:  49%|████▉     | 25/51 [04:27<04:40, 10.80s/it]\u001b[A\n",
      "Training:  51%|█████     | 26/51 [04:39<04:37, 11.10s/it]\u001b[A\n",
      "Training:  53%|█████▎    | 27/51 [04:51<04:30, 11.27s/it]\u001b[A\n",
      "Training:  55%|█████▍    | 28/51 [05:01<04:11, 10.95s/it]\u001b[A\n",
      "Training:  57%|█████▋    | 29/51 [05:11<03:54, 10.64s/it]\u001b[A\n",
      "Training:  59%|█████▉    | 30/51 [05:21<03:42, 10.57s/it]\u001b[A\n",
      "Training:  61%|██████    | 31/51 [05:32<03:34, 10.74s/it]\u001b[A\n",
      "Training:  63%|██████▎   | 32/51 [05:44<03:28, 11.00s/it]\u001b[A\n",
      "Training:  65%|██████▍   | 33/51 [05:54<03:15, 10.86s/it]\u001b[A\n",
      "Training:  67%|██████▋   | 34/51 [06:06<03:07, 11.00s/it]\u001b[A\n",
      "Training:  69%|██████▊   | 35/51 [06:17<02:56, 11.03s/it]\u001b[A\n",
      "Training:  71%|███████   | 36/51 [06:28<02:46, 11.13s/it]\u001b[A\n",
      "Training:  73%|███████▎  | 37/51 [06:39<02:35, 11.09s/it]\u001b[A\n",
      "Training:  75%|███████▍  | 38/51 [06:50<02:21, 10.92s/it]\u001b[A\n",
      "Training:  76%|███████▋  | 39/51 [07:01<02:10, 10.90s/it]\u001b[A\n",
      "Training:  78%|███████▊  | 40/51 [07:11<01:57, 10.70s/it]\u001b[A\n",
      "Training:  80%|████████  | 41/51 [07:22<01:47, 10.79s/it]\u001b[A\n",
      "Training:  82%|████████▏ | 42/51 [07:32<01:36, 10.72s/it]\u001b[A\n",
      "Training:  84%|████████▍ | 43/51 [07:43<01:24, 10.56s/it]\u001b[A\n",
      "Training:  86%|████████▋ | 44/51 [07:53<01:14, 10.65s/it]\u001b[A\n",
      "Training:  88%|████████▊ | 45/51 [08:05<01:04, 10.82s/it]\u001b[A\n",
      "Training:  90%|█████████ | 46/51 [08:15<00:52, 10.58s/it]\u001b[A\n",
      "Training:  92%|█████████▏| 47/51 [08:24<00:41, 10.37s/it]\u001b[A\n",
      "Training:  94%|█████████▍| 48/51 [08:36<00:31, 10.58s/it]\u001b[A\n",
      "Training:  96%|█████████▌| 49/51 [08:46<00:21, 10.62s/it]\u001b[A\n",
      "Training:  98%|█████████▊| 50/51 [08:57<00:10, 10.53s/it]\u001b[A\n",
      "Training: 100%|██████████| 51/51 [08:58<00:00, 10.56s/it]\u001b[A\n",
      "Epoch:  50%|█████     | 5/10 [54:41<45:48, 549.65s/it]\n",
      "Evaluating:   0%|          | 0/7 [00:00<?, ?it/s]\u001b[A"
     ]
    },
    {
     "name": "stdout",
     "output_type": "stream",
     "text": [
      "Execute [train_an_epoch] method costing 538589.43 ms\n",
      "[Epoch 5] loss: 2.721795361954719\n"
     ]
    },
    {
     "name": "stderr",
     "output_type": "stream",
     "text": [
      "\n",
      "Evaluating:  14%|█▍        | 1/7 [00:02<00:16,  2.74s/it]\u001b[A\n",
      "Evaluating:  29%|██▊       | 2/7 [00:05<00:13,  2.70s/it]\u001b[A\n",
      "Evaluating:  43%|████▎     | 3/7 [00:07<00:10,  2.68s/it]\u001b[A\n",
      "Evaluating:  57%|█████▋    | 4/7 [00:10<00:07,  2.56s/it]\u001b[A\n",
      "Evaluating:  71%|███████▏  | 5/7 [00:12<00:04,  2.46s/it]\u001b[A\n",
      "Evaluating:  86%|████████▌ | 6/7 [00:15<00:02,  2.58s/it]\u001b[A\n",
      "Evaluating: 100%|██████████| 7/7 [00:15<00:00,  2.28s/it]\u001b[A\n",
      "Epoch:  60%|██████    | 6/10 [54:57<36:44, 551.11s/it]\n",
      "Training:   0%|          | 0/51 [00:00<?, ?it/s]\u001b[A"
     ]
    },
    {
     "name": "stdout",
     "output_type": "stream",
     "text": [
      "Execute [eval] method costing 15937.29 ms\n"
     ]
    },
    {
     "name": "stderr",
     "output_type": "stream",
     "text": [
      "\n",
      "Training:   2%|▏         | 1/51 [00:09<08:12,  9.84s/it]\u001b[A\n",
      "Training:   4%|▍         | 2/51 [00:20<08:20, 10.22s/it]\u001b[A\n",
      "Training:   6%|▌         | 3/51 [00:31<08:22, 10.46s/it]\u001b[A\n",
      "Training:   8%|▊         | 4/51 [00:42<08:05, 10.34s/it]\u001b[A\n",
      "Training:  10%|▉         | 5/51 [00:53<08:06, 10.57s/it]\u001b[A\n",
      "Training:  12%|█▏        | 6/51 [01:03<07:59, 10.65s/it]\u001b[A\n",
      "Training:  14%|█▎        | 7/51 [01:14<07:43, 10.54s/it]\u001b[A\n",
      "Training:  16%|█▌        | 8/51 [01:24<07:32, 10.53s/it]\u001b[A\n",
      "Training:  18%|█▊        | 9/51 [01:35<07:23, 10.57s/it]\u001b[A\n",
      "Training:  20%|█▉        | 10/51 [01:45<07:09, 10.49s/it]\u001b[A\n",
      "Training:  22%|██▏       | 11/51 [01:56<07:03, 10.59s/it]\u001b[A\n",
      "Training:  24%|██▎       | 12/51 [02:07<07:00, 10.79s/it]\u001b[A\n",
      "Training:  25%|██▌       | 13/51 [02:18<06:47, 10.72s/it]\u001b[A\n",
      "Training:  27%|██▋       | 14/51 [02:28<06:28, 10.49s/it]\u001b[A\n",
      "Training:  29%|██▉       | 15/51 [02:39<06:29, 10.82s/it]\u001b[A\n",
      "Training:  31%|███▏      | 16/51 [02:49<06:10, 10.57s/it]\u001b[A\n",
      "Training:  33%|███▎      | 17/51 [03:01<06:08, 10.84s/it]\u001b[A\n",
      "Training:  35%|███▌      | 18/51 [03:12<06:02, 10.97s/it]\u001b[A\n",
      "Training:  37%|███▋      | 19/51 [03:23<05:54, 11.08s/it]\u001b[A\n",
      "Training:  39%|███▉      | 20/51 [03:35<05:45, 11.15s/it]\u001b[A\n",
      "Training:  41%|████      | 21/51 [03:46<05:30, 11.03s/it]\u001b[A\n",
      "Training:  43%|████▎     | 22/51 [03:56<05:17, 10.96s/it]\u001b[A\n",
      "Training:  45%|████▌     | 23/51 [04:07<05:08, 11.01s/it]\u001b[A\n",
      "Training:  47%|████▋     | 24/51 [04:19<04:59, 11.09s/it]\u001b[A\n",
      "Training:  49%|████▉     | 25/51 [04:30<04:49, 11.13s/it]\u001b[A\n",
      "Training:  51%|█████     | 26/51 [04:40<04:33, 10.94s/it]\u001b[A\n",
      "Training:  53%|█████▎    | 27/51 [04:51<04:17, 10.71s/it]\u001b[A\n",
      "Training:  55%|█████▍    | 28/51 [05:01<04:03, 10.59s/it]\u001b[A\n",
      "Training:  57%|█████▋    | 29/51 [05:11<03:50, 10.46s/it]\u001b[A\n",
      "Training:  59%|█████▉    | 30/51 [05:22<03:44, 10.69s/it]\u001b[A\n",
      "Training:  61%|██████    | 31/51 [05:33<03:35, 10.79s/it]\u001b[A\n",
      "Training:  63%|██████▎   | 32/51 [05:43<03:20, 10.54s/it]\u001b[A\n",
      "Training:  65%|██████▍   | 33/51 [05:54<03:09, 10.53s/it]\u001b[A\n",
      "Training:  67%|██████▋   | 34/51 [06:05<02:59, 10.58s/it]\u001b[A\n",
      "Training:  69%|██████▊   | 35/51 [06:15<02:49, 10.58s/it]\u001b[A\n",
      "Training:  71%|███████   | 36/51 [06:26<02:41, 10.79s/it]\u001b[A\n",
      "Training:  73%|███████▎  | 37/51 [06:38<02:34, 11.06s/it]\u001b[A\n",
      "Training:  75%|███████▍  | 38/51 [06:49<02:23, 11.07s/it]\u001b[A\n",
      "Training:  76%|███████▋  | 39/51 [07:00<02:13, 11.16s/it]\u001b[A\n",
      "Training:  78%|███████▊  | 40/51 [07:12<02:02, 11.12s/it]\u001b[A\n",
      "Training:  80%|████████  | 41/51 [07:22<01:49, 11.00s/it]\u001b[A\n",
      "Training:  82%|████████▏ | 42/51 [07:33<01:38, 10.93s/it]\u001b[A\n",
      "Training:  84%|████████▍ | 43/51 [07:45<01:29, 11.13s/it]\u001b[A\n",
      "Training:  86%|████████▋ | 44/51 [07:56<01:17, 11.07s/it]\u001b[A\n",
      "Training:  88%|████████▊ | 45/51 [08:07<01:06, 11.07s/it]\u001b[A\n",
      "Training:  90%|█████████ | 46/51 [08:18<00:55, 11.15s/it]\u001b[A\n",
      "Training:  92%|█████████▏| 47/51 [08:30<00:45, 11.29s/it]\u001b[A\n",
      "Training:  94%|█████████▍| 48/51 [08:41<00:33, 11.33s/it]\u001b[A\n",
      "Training:  96%|█████████▌| 49/51 [08:52<00:22, 11.30s/it]\u001b[A\n",
      "Training:  98%|█████████▊| 50/51 [09:02<00:10, 10.96s/it]\u001b[A\n",
      "Training: 100%|██████████| 51/51 [09:04<00:00, 10.68s/it]\u001b[A\n",
      "Epoch:  60%|██████    | 6/10 [1:04:01<36:44, 551.11s/it]\n",
      "Evaluating:   0%|          | 0/7 [00:00<?, ?it/s]\u001b[A"
     ]
    },
    {
     "name": "stdout",
     "output_type": "stream",
     "text": [
      "Execute [train_an_epoch] method costing 544577.49 ms\n",
      "[Epoch 6] loss: 1.2391234126407653\n"
     ]
    },
    {
     "name": "stderr",
     "output_type": "stream",
     "text": [
      "\n",
      "Evaluating:  14%|█▍        | 1/7 [00:02<00:16,  2.82s/it]\u001b[A\n",
      "Evaluating:  29%|██▊       | 2/7 [00:05<00:13,  2.65s/it]\u001b[A\n",
      "Evaluating:  43%|████▎     | 3/7 [00:07<00:10,  2.54s/it]\u001b[A\n",
      "Evaluating:  57%|█████▋    | 4/7 [00:09<00:07,  2.48s/it]\u001b[A\n",
      "Evaluating:  71%|███████▏  | 5/7 [00:11<00:04,  2.41s/it]\u001b[A\n",
      "Evaluating:  86%|████████▌ | 6/7 [00:14<00:02,  2.44s/it]\u001b[A\n",
      "Evaluating: 100%|██████████| 7/7 [00:15<00:00,  2.14s/it]\u001b[A\n",
      "Epoch:  70%|███████   | 7/10 [1:04:16<27:40, 553.66s/it]\n",
      "Training:   0%|          | 0/51 [00:00<?, ?it/s]\u001b[A"
     ]
    },
    {
     "name": "stdout",
     "output_type": "stream",
     "text": [
      "Execute [eval] method costing 15016.49 ms\n"
     ]
    },
    {
     "name": "stderr",
     "output_type": "stream",
     "text": [
      "\n",
      "Training:   2%|▏         | 1/51 [00:10<08:26, 10.14s/it]\u001b[A\n",
      "Training:   4%|▍         | 2/51 [00:21<08:31, 10.43s/it]\u001b[A\n",
      "Training:   6%|▌         | 3/51 [00:30<08:10, 10.21s/it]\u001b[A\n",
      "Training:   8%|▊         | 4/51 [00:40<07:52, 10.05s/it]\u001b[A\n",
      "Training:  10%|▉         | 5/51 [00:50<07:46, 10.14s/it]\u001b[A\n",
      "Training:  12%|█▏        | 6/51 [01:01<07:38, 10.18s/it]\u001b[A"
     ]
    }
   ],
   "source": [
    "cls.train(train_set,dev_set)"
   ]
  },
  {
   "cell_type": "code",
   "execution_count": null,
   "metadata": {},
   "outputs": [],
   "source": [
    "cls.test(test_set)"
   ]
  },
  {
   "cell_type": "code",
   "execution_count": null,
   "metadata": {},
   "outputs": [],
   "source": [
    "test_set.iloc[1:10]"
   ]
  },
  {
   "cell_type": "code",
   "execution_count": null,
   "metadata": {},
   "outputs": [],
   "source": [
    "cls.predict(test_set.iloc[1:10])"
   ]
  },
  {
   "cell_type": "code",
   "execution_count": null,
   "metadata": {},
   "outputs": [],
   "source": []
  },
  {
   "cell_type": "code",
   "execution_count": null,
   "metadata": {},
   "outputs": [],
   "source": []
  }
 ],
 "metadata": {
  "kernelspec": {
   "display_name": "doc_cls",
   "language": "python",
   "name": "doc_cls"
  },
  "language_info": {
   "codemirror_mode": {
    "name": "ipython",
    "version": 3
   },
   "file_extension": ".py",
   "mimetype": "text/x-python",
   "name": "python",
   "nbconvert_exporter": "python",
   "pygments_lexer": "ipython3",
   "version": "3.8.3"
  }
 },
 "nbformat": 4,
 "nbformat_minor": 4
}
